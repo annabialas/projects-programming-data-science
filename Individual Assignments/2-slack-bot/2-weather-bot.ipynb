{
 "cells": [
  {
   "cell_type": "markdown",
   "metadata": {
    "collapsed": false
   },
   "source": [
    "# WeatherBot\n",
    "##### by Anna Bialas\n",
    "## General query:\n",
    "##### (an example using San Marino as a location name)\n",
    "@annabialas bot weather san marino\n",
    "## Checking the weather by location name:\n",
    "##### (lesser accuracy due to the OpenWeatherAPI choosing the location matching the name on its own)\n",
    "@annabialas bot weather san marino name\n",
    "## Checking the weather by location id :\n",
    "##### (greater accuracy because one id has only one location)\n",
    "@annabialas bot weather 3168068\n",
    "## Finding the id(s) corresponding to a location name: \n",
    "##### (parses the city.list.json file to find the ids)\n",
    "@annabialas bot weather san marino id"
   ]
  },
  {
   "cell_type": "code",
   "execution_count": null,
   "metadata": {
    "collapsed": true
   },
   "outputs": [],
   "source": [
    "import time\n",
    "import re\n",
    "import requests\n",
    "import json"
   ]
  },
  {
   "cell_type": "code",
   "execution_count": null,
   "metadata": {
    "collapsed": true
   },
   "outputs": [],
   "source": [
    "def message_matches(user_id, message_text):\n",
    "    '''\n",
    "    Check if the username and the word 'bot' appears in the text\n",
    "    '''\n",
    "    regex_expression = r'.*@' + user_id + r'.*bot.*'\n",
    "    regex = re.compile(regex_expression, re.IGNORECASE)\n",
    "    # Check if the message text matches the regex above\n",
    "    match = regex.match(message_text)\n",
    "    # returns true if the match is not None (ie the regex had a match)\n",
    "    return match != None "
   ]
  },
  {
   "cell_type": "code",
   "execution_count": null,
   "metadata": {
    "collapsed": true
   },
   "outputs": [],
   "source": [
    "def extract_location(message_text):\n",
    "    '''\n",
    "    Extract the command. The regex relies on the question having a specific form\n",
    "    '''\n",
    "    \n",
    "    # adding the optional 'in' in case people make a mistake... I know I did and I am the one who made this bot so...\n",
    "    regex_expression = r'weather (in )?(\\D+)'\n",
    "    regex= re.compile(regex_expression, re.IGNORECASE)\n",
    "    matches = regex.finditer(message_text)\n",
    "    for match in matches:\n",
    "        if match: \n",
    "            location = match.group(2).title()\n",
    "            return location\n",
    "        else:\n",
    "            return None"
   ]
  },
  {
   "cell_type": "code",
   "execution_count": null,
   "metadata": {
    "collapsed": true
   },
   "outputs": [],
   "source": [
    "def specify_method(message_text):\n",
    "    '''\n",
    "    Extract the command. The regex relies on the question having a specific form\n",
    "    '''\n",
    "    \n",
    "    #again with the in... just in case they make a mistake but it still goes through...\n",
    "    regex_expression = r'weather (in )?(\\D+) (id|name)'\n",
    "    regex = re.compile(regex_expression, re.IGNORECASE)\n",
    "    matches = regex.finditer(message_text)\n",
    "    for match in matches:\n",
    "        return match.group(2).title(), match.group(3)\n",
    "    \n",
    "    return None"
   ]
  },
  {
   "cell_type": "code",
   "execution_count": null,
   "metadata": {
    "collapsed": true
   },
   "outputs": [],
   "source": [
    "def get_weather_by_location(location):\n",
    "    \n",
    "    openweathermap_url = \"http://api.openweathermap.org/data/2.5/weather\"\n",
    "    parameters = {\n",
    "        'q'     :  location,\n",
    "        'units' : 'imperial',\n",
    "        'mode'  : 'json',\n",
    "        'appid' : 'fc5c34780a765f2d312bd692c9e9d3a6'\n",
    "    }\n",
    "    \n",
    "    weather = requests.get(openweathermap_url, params=parameters).json()\n",
    "    \n",
    "    if weather['cod'] == '404':\n",
    "        return weather['message']\n",
    "    else:\n",
    "        weather = \"*Weather in {l}:*\\nAverage temperature: {t}F, {w}, humidity: {h}.\".format(l=location, t=weather[\"main\"][\"temp\"], w=weather[\"weather\"][0][\"description\"], h=weather[\"main\"][\"humidity\"])\n",
    "        return weather"
   ]
  },
  {
   "cell_type": "code",
   "execution_count": null,
   "metadata": {
    "collapsed": true
   },
   "outputs": [],
   "source": [
    "def get_location_id(location):\n",
    "    '''\n",
    "    Returns a list of JSON objects with the location name and its ID\n",
    "    '''\n",
    "    location_file = 'city.list.json'\n",
    "    f = open(location_file, 'r') \n",
    "    content = f.read()\n",
    "    f.close()\n",
    "    \n",
    "    items = content.split(\"\\n\")\n",
    "    \n",
    "    matching_locations = []\n",
    "    \n",
    "    regex_expression = r'\\b' + re.escape(location) + r'\\b'\n",
    "    regex = re.compile(regex_expression)\n",
    "    \n",
    "    for item in items:\n",
    "        item_parsed = json.loads(item)\n",
    "        matches = regex.finditer(item_parsed['name'])\n",
    "        for match in matches:\n",
    "            if match.group() in item_parsed['name']:\n",
    "                matching_locations.append(item_parsed)\n",
    "                \n",
    "    if matching_locations != None:\n",
    "        return matching_locations\n",
    "    else:\n",
    "        return None"
   ]
  },
  {
   "cell_type": "code",
   "execution_count": null,
   "metadata": {
    "collapsed": false
   },
   "outputs": [],
   "source": [
    "def list_ids(location):\n",
    "    \n",
    "    if location != None:\n",
    "    \n",
    "        message = \"Thank you for asking about the weather in {l}.\\n\".format(l=location)\n",
    "\n",
    "        matching_locations = get_location_id(location)\n",
    "        print(matching_locations)\n",
    "        \n",
    "        if len(matching_locations) == 0:\n",
    "            message += \"Unfortunately, I could not find any IDs corresponding to {l} :disappointed: \\\n",
    "Check if you spelled the name of the location correctly and try again!\".format(l=location)\n",
    "            return message\n",
    "        \n",
    "        # If there is one matching location\n",
    "        if len(matching_locations) == 1:\n",
    "            message += \"*I have found one ID corresponding to your desired location* :tada: \\n\"\n",
    "        \n",
    "        # If there are multiple matching locations\n",
    "        if len(matching_locations) > 1:\n",
    "            message += \"*I have multiple results matching your desired location* :tada: :tada: :tada: \\n\"\n",
    "            \n",
    "        # Add the information for each location\n",
    "        for entry in matching_locations:\n",
    "            name = entry['name']\n",
    "            country = entry['country']\n",
    "            _id = entry['_id']\n",
    "            lon = entry['coord']['lon']\n",
    "            lat = entry['coord']['lat']\n",
    "            \n",
    "            message += \"{n}, {c}, located at ({lon}, {lat}), has id of {_id}\\n\".format(n=name, c=country, lon=lon, lat=lat, _id=_id)\n",
    "       \n",
    "        message += \"To see weather for a specific location by its ID\\\n",
    " please type `weather` followed by the chosen `ID`, e.g. `weather 4833279`\"\n",
    "    \n",
    "    else:\n",
    "        message = \"Unfortunately, I could not find any ids corresponding to {l} :disappointed: \\\n",
    "Check if you spelled the name of the location correctly and try again!\".format(l=location)\n",
    "        \n",
    "    return message"
   ]
  },
  {
   "cell_type": "code",
   "execution_count": null,
   "metadata": {
    "collapsed": true
   },
   "outputs": [],
   "source": [
    "def extract_id(message_text):\n",
    "    \n",
    "    regex_expression = r'weather ([0-9]{7})' \n",
    "    regex = re.compile(regex_expression, re.IGNORECASE)\n",
    "    matches = regex.finditer(message_text)\n",
    "    for match in matches:\n",
    "        return match.group(1)\n",
    "\n",
    "    return None"
   ]
  },
  {
   "cell_type": "code",
   "execution_count": null,
   "metadata": {
    "collapsed": false
   },
   "outputs": [],
   "source": [
    "def get_weather_by_id(location_id):\n",
    "\n",
    "    openweathermap_url = \"http://api.openweathermap.org/data/2.5/weather\"\n",
    "    parameters = {\n",
    "        'id'    :  location_id,\n",
    "        'units' : 'imperial',\n",
    "        'mode'  : 'json',\n",
    "        'appid' : 'fc5c34780a765f2d312bd692c9e9d3a6'\n",
    "    }\n",
    "    \n",
    "    weather = requests.get(openweathermap_url, params=parameters).json()\n",
    "    \n",
    "    if weather['cod'] == '400':\n",
    "        message = 'Bad news! Unfortunately I could not find the weather for the ID you were\\\n",
    " asking for :disappointed: Please, check if it was typed correctly!'\n",
    "        return message\n",
    "    else:\n",
    "        weather = \"*Weather in {n}:*\\nAverage temperature: {t}F, {w}, humidity: {h}.\".format(n=weather[\"name\"], t=weather[\"main\"][\"temp\"], w=weather[\"weather\"][0][\"description\"], h=weather[\"main\"][\"humidity\"])\n",
    "        return weather"
   ]
  },
  {
   "cell_type": "code",
   "execution_count": null,
   "metadata": {
    "collapsed": false
   },
   "outputs": [],
   "source": [
    "def create_message(message_text, weather_type, location, location_id):\n",
    "    \n",
    "    if location != None:\n",
    "    \n",
    "        method = specify_method(message_text)\n",
    "        \n",
    "        if method != None:\n",
    "            \n",
    "            location = specify_method(message_text)[0]\n",
    "            weather_type = specify_method(message_text)[1]\n",
    "            \n",
    "            if weather_type == 'name':\n",
    "                weather = get_weather_by_location(location)\n",
    "                if weather == 'city not found':\n",
    "                    message = 'Thank you for asking about the weather in {l}. Unfortunately I could not find the location name you were\\\n",
    " asking for :disappointed:'.format(l=location)\n",
    "                else:\n",
    "                    message = weather\n",
    "        \n",
    "            if weather_type == 'id':\n",
    "                message = list_ids(location)\n",
    "                \n",
    "        else:\n",
    "            result = get_weather_by_location(location)\n",
    "            if result == 'city not found':\n",
    "                message = 'Thank you for asking about the weather in {l}. Unfortunately I could not find the location you were\\\n",
    " asking for :disappointed: Please, make sure you spelled the location name correctly, or try a different one!'.format(l=location)\n",
    "            else:\n",
    "                message = \"Would you like to check the weather using the name of your requested location or its ID?\\\n",
    " I recommend using the ID to ensure greatest accuracy :sunglasses:\\\n",
    " If you choose to go with the name, you might want to add its state and/or country :upside_down_face:\\n\\\n",
    " Please type `weather [query],[state],[country] name` or `weather [query] id` to make your choice.\"\n",
    "            \n",
    "    elif location_id != None:\n",
    "        message = get_weather_by_id(location_id)\n",
    "  \n",
    "    else: \n",
    "        message = \"Sorry, I did not get that :thinking_face: \\\n",
    "Please try `weather` followed by `name of the location` to check for its weather.\\n\\\n",
    "e.g. `weather chicago` or `weather paris` :upside_down_face:\"\n",
    "        \n",
    "    \n",
    "    return message"
   ]
  },
  {
   "cell_type": "code",
   "execution_count": null,
   "metadata": {
    "collapsed": true
   },
   "outputs": [],
   "source": [
    "# Read the access token from the file and create the Slack Client\n",
    "secrets_file = 'slack_secret.json'\n",
    "f = open(secrets_file, 'r') \n",
    "content = f.read()\n",
    "f.close()\n",
    "\n",
    "auth_info = json.loads(content)\n",
    "token = auth_info[\"access_token\"]\n",
    "\n",
    "from slackclient import SlackClient\n",
    "sc = SlackClient(token)"
   ]
  },
  {
   "cell_type": "code",
   "execution_count": null,
   "metadata": {
    "collapsed": true
   },
   "outputs": [],
   "source": [
    "response = sc.api_call(\"users.info\", user=auth_info[\"user_id\"])\n",
    "user = response['user']"
   ]
  },
  {
   "cell_type": "code",
   "execution_count": null,
   "metadata": {
    "collapsed": false
   },
   "outputs": [],
   "source": [
    "# For me to see if it's working\n",
    "print(\"The username of the authenticated user is\", user.get('name'))\n",
    "print(\"The email of the authenticated user is\", user.get('profile').get('email'))\n",
    "print(\"The email of the authenticated user is\", user.get('profile').get('real_name'))"
   ]
  },
  {
   "cell_type": "code",
   "execution_count": null,
   "metadata": {
    "collapsed": false
   },
   "outputs": [],
   "source": [
    "# Connect to the Real Time Messaging API of Slack and process the events\n",
    "\n",
    "if sc.rtm_connect():\n",
    "    # We are going to be polling the Slack API for recent events continuously\n",
    "    while True:\n",
    "        # We are going to wait 1 second between monitoring attempts\n",
    "        time.sleep(1)\n",
    "        # If there are any new events, we will get a response. If there are no events, the response will be empty\n",
    "        response = sc.rtm_read()\n",
    "        for item in response:\n",
    "            \n",
    "            # Check that the event is a message. If not, ignore and proceed to the next event.\n",
    "            if item.get(\"type\") != 'message':\n",
    "                continue\n",
    "                \n",
    "            # Check that the message comes from a user. If not, ignore and proceed to the next event.\n",
    "            if item.get(\"user\") == None:\n",
    "                continue\n",
    "                \n",
    "            print(item)\n",
    "            \n",
    "            # Check that the message is asking the bot to do something. If not, ignore and proceed to the next event.\n",
    "            user_id = auth_info[\"user_id\"]\n",
    "            message_text = item.get('text')\n",
    "            if not message_matches(user_id, message_text):\n",
    "                continue\n",
    "        \n",
    "            location = extract_location(message_text)\n",
    "            print('location is:', location)\n",
    "            \n",
    "            location_id = extract_id(message_text)\n",
    "            print(\"location id is:\", location_id)\n",
    "            \n",
    "            method = specify_method(message_text)\n",
    "            print('method is:', method)\n",
    "            \n",
    "            message = create_message(message_text, method, location, location_id)\n",
    "\n",
    "            # Post a response to the #bots channel\n",
    "            sc.api_call(\"chat.postMessage\", channel=\"#assignment2_bots\", text=message)\n",
    "            print(message)"
   ]
  }
 ],
 "metadata": {
  "kernelspec": {
   "display_name": "Python 3",
   "language": "python",
   "name": "python3"
  },
  "language_info": {
   "codemirror_mode": {
    "name": "ipython",
    "version": 3
   },
   "file_extension": ".py",
   "mimetype": "text/x-python",
   "name": "python",
   "nbconvert_exporter": "python",
   "pygments_lexer": "ipython3",
   "version": "3.5.2"
  }
 },
 "nbformat": 4,
 "nbformat_minor": 1
}
